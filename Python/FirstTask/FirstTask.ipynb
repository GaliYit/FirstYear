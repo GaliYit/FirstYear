{
 "cells": [
  {
   "metadata": {},
   "cell_type": "markdown",
   "source": [
    "# First task - math libraries and functions\n",
    "Gali Yitzhak - 323029926"
   ],
   "id": "f31d9adb855f0bd"
  },
  {
   "metadata": {},
   "cell_type": "code",
   "source": [
    "import numpy as np\n",
    "import matplotlib.pylab as plt"
   ],
   "id": "5c893c936ef6e40d",
   "outputs": [],
   "execution_count": null
  },
  {
   "metadata": {},
   "cell_type": "code",
   "source": [
    "def calc_vec_sin(vec):\n",
    "    y = np.sin(vec) * 1.1\n",
    "    return y\n",
    "\n",
    "def calc_vec_cos(vec):\n",
    "    y = np.cos(vec) / 1.1\n",
    "    return y"
   ],
   "id": "7b7709d27b9cc658",
   "outputs": [],
   "execution_count": null
  },
  {
   "metadata": {},
   "cell_type": "code",
   "source": "x = np.linspace(-10, 10, 20)",
   "id": "9cfde4d6612a8a84",
   "outputs": [],
   "execution_count": null
  },
  {
   "metadata": {},
   "cell_type": "code",
   "source": [
    "plt.plot(x,calc_vec_sin(x), '-or', label=\"sin(x)\")\n",
    "plt.plot(x,calc_vec_cos(x), '-*b', label=\"cos(x)\")\n",
    "plt.legend(loc=\"upper left\")"
   ],
   "id": "eef97445bc6f5142",
   "outputs": [],
   "execution_count": null
  }
 ],
 "metadata": {
  "kernelspec": {
   "display_name": "Python 3",
   "language": "python",
   "name": "python3"
  },
  "language_info": {
   "codemirror_mode": {
    "name": "ipython",
    "version": 2
   },
   "file_extension": ".py",
   "mimetype": "text/x-python",
   "name": "python",
   "nbconvert_exporter": "python",
   "pygments_lexer": "ipython2",
   "version": "2.7.6"
  }
 },
 "nbformat": 4,
 "nbformat_minor": 5
}
